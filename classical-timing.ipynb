{
 "cells": [
  {
   "cell_type": "code",
   "execution_count": 1,
   "metadata": {
    "scrolled": true
   },
   "outputs": [
    {
     "output_type": "stream",
     "name": "stdout",
     "text": [
      "Finished!\n"
     ]
    }
   ],
   "source": [
    "import glob\n",
    "import hist.util\n",
    "import cupy as cp\n",
    "import numpy as np\n",
    "from datetime import datetime\n",
    "from hist._cmd_line_util import open_input_image\n",
    "from hist.classical import histeq, histeq_trans, histeq_apply, __as_unsigned\n",
    "from utils import clear_line\n",
    "\n",
    "\n",
    "# 2D and 3D Images\n",
    "images = glob.glob('../c4l-image-dataset/*/*')\n",
    "n_imgs = len(images)\n",
    "for i, filename in enumerate(images):\n",
    "    string = f'Progress: {i}/{n_imgs}\\tCurrent image: {filename[21:]}'\n",
    "    print(string, end='')\n",
    "\n",
    "    # Setup for function calls\n",
    "    timing_data = []\n",
    "    img_cpu = open_input_image(filename)\n",
    "    img_gpu = cp.array(img_cpu)\n",
    "    h_dst = 64 # Default for histeq function\n",
    "    \n",
    "    \n",
    "    # GPU timing\n",
    "    img_gpu_u, orig_dt = __as_unsigned(img_gpu)\n",
    "    h_src_gpu = hist.util.__imhist(img_gpu_u)\n",
    "    \n",
    "    data = %timeit -q -o histeq_trans(h_src_gpu, img_gpu_u.dtype)\n",
    "    timing_data.append(data)\n",
    "    transform_gpu = histeq_trans(h_src_gpu, h_dst, img_gpu_u.dtype)\n",
    "    \n",
    "    data = %timeit -q -o histeq_apply(img_gpu_u, transform_gpu)\n",
    "    timing_data.append(data)\n",
    "    \n",
    "    data = %timeit -q -o histeq(img_gpu, h_dst)\n",
    "    timing_data.append(data)\n",
    "    \n",
    "    \n",
    "    # CPU timing\n",
    "    img_cpu_u, orig_dt = __as_unsigned(img_cpu)\n",
    "    h_src_cpu = __imhist(img_cpu_u)\n",
    "    \n",
    "    data = %timeit -q -o histeq_trans(h_src_cpu, h_dst, img_cpu_u.dtype)\n",
    "    timing_data.append(data)\n",
    "    transform_cpu = histeq_trans(h_src_cpu, h_dst, img_cpu_u.dtype)\n",
    "    \n",
    "    data = %timeit -q -o histeq_apply(img_cpu_u, transform_cpu)\n",
    "    timing_data.append(data)\n",
    "    \n",
    "    data = %timeit -q -o histeq(img_cpu, h_dst)\n",
    "    timing_data.append(data)\n",
    "    \n",
    "    # Save data in file; appends to the end of the file\n",
    "    with open('classical.txt', 'a+') as file:\n",
    "        file.write('\\n\\n' + filename + '\\n')\n",
    "        for data in timing_data:\n",
    "            file.write(str(data) + '\\n')\n",
    "\n",
    "    clear_line(len(string)) # Clears the current output\n",
    "\n",
    "print('Finished!')\n"
   ]
  },
  {
   "cell_type": "code",
   "execution_count": null,
   "metadata": {},
   "outputs": [],
   "source": [
    "import os\n",
    "import os.path\n",
    "from utils import prefix_to_micro\n",
    "\n",
    "\n",
    "if os.path.exists('classical.txt'):\n",
    "    with open('classical.txt', 'r') as temp:\n",
    "        with open('classical_timing.csv', 'w+') as file:\n",
    "            file.write('Image,histeq_trans_gpu Mean,histeq_trans_gpu Std. Dev.,histeq_apply_gpu Mean,'\n",
    "                       'histeq_apply_gpu Std. Dev.,histeq_gpu Mean,histeq_gpu Std. Dev.,'\n",
    "                       'histeq_trans_cpu Mean,histeq_trans_cpu Std. Dev.,histeq_apply_cpu Mean,'\n",
    "                       'histeq_apply_cpu Std. Dev.,histeq_cpu Mean,histeq_cpu Std. Dev.\\n')\n",
    "            data = temp.read().strip().split('\\n\\n')\n",
    "            for img in data:\n",
    "                img = img.strip().split('\\n')\n",
    "                data_list = [img[0].strip('..').strip('/')]\n",
    "                # Get time values and convert them to microseconds\n",
    "                for i in range(1, 7):\n",
    "                    vals = img[i].split(' ')\n",
    "                    data_list.append(float(vals[0])*prefix_to_micro(vals[1]))\n",
    "                    data_list.append(float(vals[3])*prefix_to_micro(vals[4]))\n",
    "                file.write(','.join([str(_) for _ in data_list]) + '\\n')\n",
    "            \n",
    "#os.remove(\"classical.txt\")\n"
   ]
  },
  {
   "cell_type": "code",
   "execution_count": null,
   "metadata": {},
   "outputs": [],
   "source": []
  }
 ],
 "metadata": {
  "kernelspec": {
   "name": "Python 3.8.5 64-bit ('.venv')",
   "display_name": "Python 3.8.5 64-bit ('.venv')",
   "metadata": {
    "interpreter": {
     "hash": "43a2eb339b9e7e09f8f6227db5b9ab79c9bb36ed359ebe5fa45ad3554f591be1"
    }
   }
  },
  "language_info": {
   "codemirror_mode": {
    "name": "ipython",
    "version": 3
   },
   "file_extension": ".py",
   "mimetype": "text/x-python",
   "name": "python",
   "nbconvert_exporter": "python",
   "pygments_lexer": "ipython3",
   "version": "3.8.5-final"
  }
 },
 "nbformat": 4,
 "nbformat_minor": 4
}