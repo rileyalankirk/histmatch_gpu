{
 "cells": [
  {
   "cell_type": "code",
   "execution_count": null,
   "metadata": {},
   "outputs": [],
   "source": [
    "import glob\n",
    "import cupy as cp\n",
    "import numpy as np\n",
    "from datetime import datetime\n",
    "from hist._cmd_line_util import open_input_image\n",
    "from hist.exact import histeq_exact, __calc_info\n",
    "from utils import clear_line\n",
    "\n",
    "\n",
    "exact_histeq_methods = ['lm', 'va']\n",
    "\n",
    "for method in exact_histeq_methods:\n",
    "    # 2D and 3D Images\n",
    "    images = glob.glob('../c4l-image-dataset/*/*')\n",
    "    n_imgs = len(images)\n",
    "    for i, filename in enumerate(images):\n",
    "        string = f'Progress: {i}/{n_imgs}\\tCurrent image: {filename[21:]}'\n",
    "        print(string, end='')\n",
    "\n",
    "        # Setup for function calls\n",
    "        timing_data = []\n",
    "        img_cpu = open_input_image(filename)\n",
    "        img_gpu = cp.array(img_cpu)\n",
    "\n",
    "\n",
    "        # GPU timing\n",
    "        data = %timeit -q -o __calc_info(img_gpu, method)\n",
    "        timing_data.append(data)\n",
    "\n",
    "        data = %timeit -q -o histeq_exact(img_gpu, method=method)\n",
    "        timing_data.append(data)\n",
    "\n",
    "\n",
    "        # CPU timing\n",
    "        data = %timeit -q -o __calc_info(img_cpu, method)\n",
    "        timing_data.append(data)\n",
    "\n",
    "        data = %timeit -q -o histeq_exact(img_cpu, method=method)\n",
    "        timing_data.append(data)\n",
    "\n",
    "        # Save data in file; appends to the end of the file\n",
    "        with open(method + '_temp.txt', 'a+') as file:\n",
    "            file.write('\\n\\n' + filename + '\\n')\n",
    "            for data in timing_data:\n",
    "                file.write(str(data) + '\\n')\n",
    "\n",
    "        clear_line(len(string)) # Clears the current output\n",
    "\n",
    "print('Finished!')\n",
    "        "
   ]
  },
  {
   "cell_type": "code",
   "execution_count": null,
   "metadata": {},
   "outputs": [],
   "source": [
    "import os\n",
    "import os.path\n",
    "from utils import prefix_to_micro\n",
    "\n",
    "\n",
    "def convert_temp_to_data(method):\n",
    "    if os.path.exists(method + '_temp.txt'):\n",
    "        with open(method + '_temp.txt', 'r') as temp:\n",
    "            with open(method + '_timing.csv', 'w+') as file:\n",
    "                file.write('Image,__calc_info_gpu Mean,__calc_info_gpu Std. Dev.,histeq_exact_gpu Mean, histeq_exact_gpu Std. Dev.,'\n",
    "                           '__calc_info_cpu Mean,__calc_info_cpu Std. Dev.,histeq_exact_cpu Mean,histeq_exact_cpu Std. Dev.\\n')\n",
    "                data = temp.read().strip().split('\\n\\n')\n",
    "                for img in data:\n",
    "                    img = img.strip().split('\\n')\n",
    "                    data_list = [img[0].strip('..').strip('/')]\n",
    "                    # Get time values and convert them to microseconds\n",
    "                    for i in range(1, 5):\n",
    "                        vals = img[i].split(' ')\n",
    "                        data_list.append(float(vals[0])*prefix_to_micro(vals[1]))\n",
    "                        data_list.append(float(vals[3])*prefix_to_micro(vals[4]))\n",
    "                    file.write(','.join([str(_) for _ in data_list]) + '\\n')\n",
    "            \n",
    "    #os.remove(method + '_temp.txt')"
   ]
  },
  {
   "cell_type": "code",
   "execution_count": null,
   "metadata": {},
   "outputs": [],
   "source": [
    "exact_histeq_methods = ['lm', 'va']\n",
    "\n",
    "for method in exact_histeq_methods:\n",
    "    convert_temp_to_data(method)"
   ]
  },
  {
   "cell_type": "code",
   "execution_count": null,
   "metadata": {},
   "outputs": [],
   "source": []
  }
 ],
 "metadata": {
  "kernelspec": {
   "name": "Python 3.8.5 64-bit ('.venv')",
   "display_name": "Python 3.8.5 64-bit ('.venv')",
   "metadata": {
    "interpreter": {
     "hash": "43a2eb339b9e7e09f8f6227db5b9ab79c9bb36ed359ebe5fa45ad3554f591be1"
    }
   }
  },
  "language_info": {
   "codemirror_mode": {
    "name": "ipython",
    "version": 3
   },
   "file_extension": ".py",
   "mimetype": "text/x-python",
   "name": "python",
   "nbconvert_exporter": "python",
   "pygments_lexer": "ipython3",
   "version": "3.8.5-final"
  }
 },
 "nbformat": 4,
 "nbformat_minor": 2
}