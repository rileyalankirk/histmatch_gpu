{
 "cells": [
  {
   "cell_type": "code",
   "execution_count": null,
   "metadata": {},
   "outputs": [],
   "source": [
    "import glob\n",
    "import cupy as cp\n",
    "import numpy as np\n",
    "from datetime import datetime\n",
    "from hist._cmd_line_util import open_input_image\n",
    "from hist.exact import __calc_info, __check_h_dst, __sort_pixels, __calc_transform, __apply_transform\n",
    "from utils import clear_line\n",
    "\n",
    "\n",
    "# 2D and 3D Images\n",
    "images = glob.glob('../c4l-image-dataset/*/*')\n",
    "n_imgs = len(images)\n",
    "for i, filename in enumerate(images):\n",
    "    string = f'Progress: {i}/{n_imgs}\\tCurrent image: {filename[21:]}'\n",
    "    print(string, end='')\n",
    "\n",
    "    # Setup for function calls\n",
    "    timing_data = []\n",
    "    img_cpu = open_input_image(filename)\n",
    "    img_gpu = cp.array(img_cpu)\n",
    "\n",
    "    \n",
    "    n = img_gpu.size\n",
    "    h_dst_cpu = __check_h_dst(256, n)\n",
    "    h_dst_gpu = cp.array(h_dst_cpu, h_dst_cpu.dtype)\n",
    "    \n",
    "    \n",
    "    # GPU timing\n",
    "    values_gpu = __calc_info(img_gpu, 'va')\n",
    "    \n",
    "    data = %timeit -q -o __sort_pixels(values_gpu, img_gpu.shape, None, False, True)\n",
    "    timing_data.append(data)\n",
    "    idx_gpu, fails = __sort_pixels(values_gpu, img_gpu.shape, None, False, True)\n",
    "    del values_gpu\n",
    "    \n",
    "    data = %timeit -q -o __calc_transform(h_dst_gpu, img_gpu.dtype, n, idx_gpu)\n",
    "    timing_data.append(data)\n",
    "    transform_gpu = __calc_transform(h_dst_gpu, img_gpu.dtype, n, idx_gpu)\n",
    "    del h_dst_gpu\n",
    "    \n",
    "    data = %timeit -q -o __apply_transform(idx_gpu, transform_gpu, img_gpu.shape, None)\n",
    "    timing_data.append(data)\n",
    "    \n",
    "    \n",
    "    # CPU timing\n",
    "    values_cpu = __calc_info(img_cpu, 'va')\n",
    "    \n",
    "    data = %timeit -q -o __sort_pixels(values_cpu, img_cpu.shape, None, False, True)\n",
    "    timing_data.append(data)\n",
    "    idx_cpu, fails = __sort_pixels(values_cpu, img_cpu.shape, None, False, True)\n",
    "    del values_cpu\n",
    "    \n",
    "    data = %timeit -q -o __calc_transform(h_dst_cpu, img_cpu.dtype, n, idx_cpu)\n",
    "    timing_data.append(data)\n",
    "    transform_cpu = __calc_transform(h_dst_cpu, img_cpu.dtype, n, idx_cpu)\n",
    "    del h_dst_cpu\n",
    "    \n",
    "    data = %timeit -q -o __apply_transform(idx_cpu, transform_cpu, img_cpu.shape, None)\n",
    "    timing_data.append(data)\n",
    "    \n",
    "    # Save data in file; appends to the end of the file\n",
    "    with open('int_steps_temp.txt', 'a+') as file:\n",
    "        file.write('\\n\\n' + filename + '\\n')\n",
    "        for data in timing_data:\n",
    "            file.write(str(data) + '\\n')\n",
    "    \n",
    "    clear_line(len(string)) # Clears the current output\n",
    "\n",
    "print('Finished!')\n",
    "        "
   ]
  },
  {
   "cell_type": "code",
   "execution_count": 5,
   "metadata": {},
   "outputs": [],
   "source": [
    "import os\n",
    "import os.path\n",
    "from utils import prefix_to_micro\n",
    "\n",
    "def convert_temp_to_data():\n",
    "    if os.path.exists('int_steps_temp.txt'):\n",
    "        with open('int_steps_temp.txt', 'r') as temp:\n",
    "            with open('int_steps.csv', 'w+') as file:\n",
    "                file.write('Image,__sort_pixels_gpu Mean,__sort_pixels_gpu Std. Dev.,__calc_transform_gpu Mean,'\n",
    "                           '__calc_transform_gpu Std. Dev.,__apply_transform_gpu Mean,__apply_transform_gpu Std. Dev.,'\n",
    "                           '__sort_pixels_cpu Mean,__sort_pixels_cpu Std. Dev.,__calc_transform_cpu Mean,'\n",
    "                           '__calc_transform_cpu Std. Dev.,__apply_transform_cpu Mean,__apply_transform_cpu Std. Dev.\\n')\n",
    "                data = temp.read().strip().split('\\n\\n')\n",
    "                for img in data:\n",
    "                    img = img.strip().split('\\n')\n",
    "                    data_list = [img[0].strip('..').strip('/')]\n",
    "                    # Get time values and convert them to microseconds\n",
    "                    for i in range(1, 7):\n",
    "                        vals = img[i].split(' ')\n",
    "                        data_list.append(float(vals[0])*prefix_to_micro(vals[1]))\n",
    "                        data_list.append(float(vals[3])*prefix_to_micro(vals[4]))\n",
    "                    file.write(','.join([str(_) for _ in data_list]) + '\\n')\n",
    "\n",
    "    #os.remove('int_steps_temp.txt')"
   ]
  },
  {
   "cell_type": "code",
   "execution_count": 6,
   "metadata": {},
   "outputs": [],
   "source": [
    "convert_temp_to_data()"
   ]
  },
  {
   "cell_type": "code",
   "execution_count": null,
   "metadata": {},
   "outputs": [],
   "source": []
  }
 ],
 "metadata": {
  "kernelspec": {
   "name": "Python 3.8.5 64-bit ('.venv')",
   "display_name": "Python 3.8.5 64-bit ('.venv')",
   "metadata": {
    "interpreter": {
     "hash": "43a2eb339b9e7e09f8f6227db5b9ab79c9bb36ed359ebe5fa45ad3554f591be1"
    }
   }
  },
  "language_info": {
   "codemirror_mode": {
    "name": "ipython",
    "version": 3
   },
   "file_extension": ".py",
   "mimetype": "text/x-python",
   "name": "python",
   "nbconvert_exporter": "python",
   "pygments_lexer": "ipython3",
   "version": "3.8.5-final"
  }
 },
 "nbformat": 4,
 "nbformat_minor": 2
}